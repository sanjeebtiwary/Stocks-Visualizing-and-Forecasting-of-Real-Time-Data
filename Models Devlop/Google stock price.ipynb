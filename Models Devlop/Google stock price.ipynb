{
 "cells": [
  {
   "cell_type": "code",
   "execution_count": 5,
   "metadata": {},
   "outputs": [],
   "source": [
    "import numpy as np \n",
    "import pandas as pd \n",
    "import matplotlib.pyplot as plt \n",
    "from sklearn.preprocessing import MinMaxScaler\n",
    "from keras.models import Sequential\n",
    "from keras.layers import Dense,LSTM,Dropout"
   ]
  },
  {
   "cell_type": "code",
   "execution_count": 6,
   "metadata": {},
   "outputs": [
    {
     "data": {
      "text/plain": "       Date    Open    High     Low   Close      Volume\n0  1/3/2012  325.25  332.83  324.97  663.59   7,380,500\n1  1/4/2012  331.27  333.87  329.08  666.45   5,749,400\n2  1/5/2012  329.83  330.75  326.89  657.21   6,590,300\n3  1/6/2012  328.34  328.77  323.68  648.24   5,405,900\n4  1/9/2012  322.04  322.29  309.46  620.76  11,688,800",
      "text/html": "<div>\n<style scoped>\n    .dataframe tbody tr th:only-of-type {\n        vertical-align: middle;\n    }\n\n    .dataframe tbody tr th {\n        vertical-align: top;\n    }\n\n    .dataframe thead th {\n        text-align: right;\n    }\n</style>\n<table border=\"1\" class=\"dataframe\">\n  <thead>\n    <tr style=\"text-align: right;\">\n      <th></th>\n      <th>Date</th>\n      <th>Open</th>\n      <th>High</th>\n      <th>Low</th>\n      <th>Close</th>\n      <th>Volume</th>\n    </tr>\n  </thead>\n  <tbody>\n    <tr>\n      <th>0</th>\n      <td>1/3/2012</td>\n      <td>325.25</td>\n      <td>332.83</td>\n      <td>324.97</td>\n      <td>663.59</td>\n      <td>7,380,500</td>\n    </tr>\n    <tr>\n      <th>1</th>\n      <td>1/4/2012</td>\n      <td>331.27</td>\n      <td>333.87</td>\n      <td>329.08</td>\n      <td>666.45</td>\n      <td>5,749,400</td>\n    </tr>\n    <tr>\n      <th>2</th>\n      <td>1/5/2012</td>\n      <td>329.83</td>\n      <td>330.75</td>\n      <td>326.89</td>\n      <td>657.21</td>\n      <td>6,590,300</td>\n    </tr>\n    <tr>\n      <th>3</th>\n      <td>1/6/2012</td>\n      <td>328.34</td>\n      <td>328.77</td>\n      <td>323.68</td>\n      <td>648.24</td>\n      <td>5,405,900</td>\n    </tr>\n    <tr>\n      <th>4</th>\n      <td>1/9/2012</td>\n      <td>322.04</td>\n      <td>322.29</td>\n      <td>309.46</td>\n      <td>620.76</td>\n      <td>11,688,800</td>\n    </tr>\n  </tbody>\n</table>\n</div>"
     },
     "execution_count": 6,
     "metadata": {},
     "output_type": "execute_result"
    }
   ],
   "source": [
    "data = pd.read_csv(\"D:\\Project\\Stocks-Visualizing-and-Forecasting\\Datasets\\Google_train_data.csv\")\n",
    "data.head()"
   ]
  },
  {
   "cell_type": "code",
   "execution_count": 7,
   "metadata": {},
   "outputs": [
    {
     "name": "stdout",
     "output_type": "stream",
     "text": [
      "<class 'pandas.core.frame.DataFrame'>\n",
      "RangeIndex: 1258 entries, 0 to 1257\n",
      "Data columns (total 6 columns):\n",
      " #   Column  Non-Null Count  Dtype  \n",
      "---  ------  --------------  -----  \n",
      " 0   Date    1258 non-null   object \n",
      " 1   Open    1258 non-null   float64\n",
      " 2   High    1258 non-null   float64\n",
      " 3   Low     1258 non-null   float64\n",
      " 4   Close   1258 non-null   object \n",
      " 5   Volume  1258 non-null   object \n",
      "dtypes: float64(3), object(3)\n",
      "memory usage: 59.1+ KB\n"
     ]
    }
   ],
   "source": [
    "data.info()"
   ]
  },
  {
   "cell_type": "code",
   "execution_count": 8,
   "metadata": {},
   "outputs": [],
   "source": [
    "data[\"Close\"]=pd.to_numeric(data.Close,errors='coerce')\n",
    "data = data.dropna()\n",
    "trainData = data.iloc[:,4:5].values"
   ]
  },
  {
   "cell_type": "code",
   "execution_count": 9,
   "metadata": {},
   "outputs": [
    {
     "name": "stdout",
     "output_type": "stream",
     "text": [
      "<class 'pandas.core.frame.DataFrame'>\n",
      "Int64Index: 1149 entries, 0 to 1257\n",
      "Data columns (total 6 columns):\n",
      " #   Column  Non-Null Count  Dtype  \n",
      "---  ------  --------------  -----  \n",
      " 0   Date    1149 non-null   object \n",
      " 1   Open    1149 non-null   float64\n",
      " 2   High    1149 non-null   float64\n",
      " 3   Low     1149 non-null   float64\n",
      " 4   Close   1149 non-null   float64\n",
      " 5   Volume  1149 non-null   object \n",
      "dtypes: float64(4), object(2)\n",
      "memory usage: 62.8+ KB\n"
     ]
    }
   ],
   "source": [
    "data.info()"
   ]
  },
  {
   "cell_type": "code",
   "execution_count": 10,
   "metadata": {},
   "outputs": [
    {
     "data": {
      "text/plain": "(1149, 1)"
     },
     "execution_count": 10,
     "metadata": {},
     "output_type": "execute_result"
    }
   ],
   "source": [
    "sc = MinMaxScaler(feature_range=(0,1))\n",
    "trainData = sc.fit_transform(trainData)\n",
    "trainData.shape"
   ]
  },
  {
   "cell_type": "code",
   "execution_count": 11,
   "metadata": {},
   "outputs": [],
   "source": [
    "X_train = []\n",
    "y_train = []\n",
    "\n",
    "for i in range (60,1149):\n",
    "    X_train.append(trainData[i-60:i,0]) \n",
    "    y_train.append(trainData[i,0])\n",
    "\n",
    "X_train,y_train = np.array(X_train),np.array(y_train)"
   ]
  },
  {
   "cell_type": "code",
   "execution_count": 12,
   "metadata": {},
   "outputs": [
    {
     "data": {
      "text/plain": "(1089, 60, 1)"
     },
     "execution_count": 12,
     "metadata": {},
     "output_type": "execute_result"
    }
   ],
   "source": [
    "X_train = np.reshape(X_train,(X_train.shape[0],X_train.shape[1],1))\n",
    "X_train.shape"
   ]
  },
  {
   "cell_type": "code",
   "execution_count": 13,
   "metadata": {},
   "outputs": [],
   "source": [
    "model = Sequential()\n",
    "\n",
    "model.add(LSTM(units=100, return_sequences = True, input_shape =(X_train.shape[1],1)))\n",
    "model.add(Dropout(0.2))\n",
    "\n",
    "model.add(LSTM(units=100, return_sequences = True))\n",
    "model.add(Dropout(0.2))\n",
    "\n",
    "model.add(LSTM(units=100, return_sequences = True))\n",
    "model.add(Dropout(0.2))\n",
    "\n",
    "model.add(LSTM(units=100, return_sequences = False))\n",
    "model.add(Dropout(0.2))\n",
    "\n",
    "model.add(Dense(units =1))\n",
    "model.compile(optimizer='adam',loss=\"mean_squared_error\")"
   ]
  },
  {
   "cell_type": "code",
   "execution_count": 14,
   "metadata": {},
   "outputs": [
    {
     "name": "stdout",
     "output_type": "stream",
     "text": [
      "Epoch 1/20\n",
      "35/35 - 18s - loss: 0.0342 - 18s/epoch - 517ms/step\n",
      "Epoch 2/20\n",
      "35/35 - 8s - loss: 0.0106 - 8s/epoch - 217ms/step\n",
      "Epoch 3/20\n",
      "35/35 - 8s - loss: 0.0081 - 8s/epoch - 226ms/step\n",
      "Epoch 4/20\n",
      "35/35 - 8s - loss: 0.0083 - 8s/epoch - 218ms/step\n",
      "Epoch 5/20\n",
      "35/35 - 8s - loss: 0.0089 - 8s/epoch - 216ms/step\n",
      "Epoch 6/20\n",
      "35/35 - 8s - loss: 0.0073 - 8s/epoch - 217ms/step\n",
      "Epoch 7/20\n",
      "35/35 - 7s - loss: 0.0118 - 7s/epoch - 207ms/step\n",
      "Epoch 8/20\n",
      "35/35 - 7s - loss: 0.0067 - 7s/epoch - 213ms/step\n",
      "Epoch 9/20\n",
      "35/35 - 7s - loss: 0.0070 - 7s/epoch - 213ms/step\n",
      "Epoch 10/20\n",
      "35/35 - 7s - loss: 0.0062 - 7s/epoch - 206ms/step\n",
      "Epoch 11/20\n",
      "35/35 - 8s - loss: 0.0054 - 8s/epoch - 219ms/step\n",
      "Epoch 12/20\n",
      "35/35 - 8s - loss: 0.0062 - 8s/epoch - 224ms/step\n",
      "Epoch 13/20\n",
      "35/35 - 8s - loss: 0.0055 - 8s/epoch - 225ms/step\n",
      "Epoch 14/20\n",
      "35/35 - 8s - loss: 0.0062 - 8s/epoch - 228ms/step\n",
      "Epoch 15/20\n",
      "35/35 - 8s - loss: 0.0079 - 8s/epoch - 215ms/step\n",
      "Epoch 16/20\n",
      "35/35 - 7s - loss: 0.0055 - 7s/epoch - 209ms/step\n",
      "Epoch 17/20\n",
      "35/35 - 8s - loss: 0.0051 - 8s/epoch - 216ms/step\n",
      "Epoch 18/20\n",
      "35/35 - 8s - loss: 0.0049 - 8s/epoch - 223ms/step\n",
      "Epoch 19/20\n",
      "35/35 - 8s - loss: 0.0050 - 8s/epoch - 221ms/step\n",
      "Epoch 20/20\n",
      "35/35 - 8s - loss: 0.0049 - 8s/epoch - 215ms/step\n"
     ]
    }
   ],
   "source": [
    "hist = model.fit(X_train, y_train, epochs = 20, batch_size = 32, verbose=2)"
   ]
  },
  {
   "cell_type": "code",
   "execution_count": 15,
   "metadata": {},
   "outputs": [
    {
     "data": {
      "text/plain": "<Figure size 432x288 with 1 Axes>",
      "image/png": "[encoded data removed]"
     },
     "metadata": {
      "needs_background": "light"
     },
     "output_type": "display_data"
    }
   ],
   "source": [
    "plt.plot(hist.history['loss'])\n",
    "plt.title('Training model loss')\n",
    "plt.ylabel('loss')\n",
    "plt.xlabel('epoch')\n",
    "plt.legend(['train'], loc='upper left')\n",
    "plt.show()"
   ]
  },
  {
   "cell_type": "code",
   "execution_count": 18,
   "metadata": {},
   "outputs": [
    {
     "data": {
      "text/plain": "(192, 60, 1)"
     },
     "execution_count": 18,
     "metadata": {},
     "output_type": "execute_result"
    }
   ],
   "source": [
    "testData = pd.read_csv('D:\\Project\\Stocks-Visualizing-and-Forecasting\\Datasets\\Google_test_data.csv')\n",
    "testData[\"Close\"]=pd.to_numeric(testData.Close,errors='coerce')\n",
    "testData = testData.dropna()\n",
    "testData = testData.iloc[:,4:5]\n",
    "y_test = testData.iloc[60:,0:].values\n",
    "inputClosing = testData.iloc[:,0:].values \n",
    "inputClosing_scaled = sc.transform(inputClosing)\n",
    "inputClosing_scaled.shape\n",
    "X_test = []\n",
    "length = len(testData)\n",
    "timestep = 60\n",
    "for i in range(timestep,length):  \n",
    "    X_test.append(inputClosing_scaled[i-timestep:i,0])\n",
    "X_test = np.array(X_test)\n",
    "X_test = np.reshape(X_test,(X_test.shape[0],X_test.shape[1],1))\n",
    "X_test.shape"
   ]
  },
  {
   "cell_type": "code",
   "execution_count": 19,
   "metadata": {},
   "outputs": [
    {
     "name": "stdout",
     "output_type": "stream",
     "text": [
      "6/6 [==============================] - 3s 60ms/step\n"
     ]
    },
    {
     "data": {
      "text/plain": "array([[1.1933901],\n       [1.1982492],\n       [1.211037 ],\n       [1.2296679],\n       [1.2452527],\n       [1.2467605],\n       [1.2334281],\n       [1.2131146],\n       [1.1980826],\n       [1.1922239],\n       [1.1848949],\n       [1.1738495],\n       [1.1637629],\n       [1.1546934],\n       [1.1527561],\n       [1.1579422],\n       [1.1768358],\n       [1.2070395],\n       [1.2420975],\n       [1.2768012],\n       [1.2922803],\n       [1.2889009],\n       [1.2659906],\n       [1.232134 ],\n       [1.2002729],\n       [1.180601 ],\n       [1.1747454],\n       [1.1749948],\n       [1.1705359],\n       [1.1621581],\n       [1.1519581],\n       [1.1397266],\n       [1.1207949],\n       [1.0966009],\n       [1.0857452],\n       [1.0949136],\n       [1.1183432],\n       [1.1463951],\n       [1.1732861],\n       [1.1881169],\n       [1.2006084],\n       [1.2143822],\n       [1.2301551],\n       [1.2449178],\n       [1.2545842],\n       [1.2545699],\n       [1.2427946],\n       [1.2306768],\n       [1.2251266],\n       [1.2289929],\n       [1.2416788],\n       [1.2521569],\n       [1.2564695],\n       [1.2545636],\n       [1.252796 ],\n       [1.2489909],\n       [1.2406524],\n       [1.235762 ],\n       [1.2437292],\n       [1.2621471],\n       [1.289557 ],\n       [1.322805 ],\n       [1.3474622],\n       [1.3532001],\n       [1.3406199],\n       [1.3173499],\n       [1.2984968],\n       [1.2899133],\n       [1.2912747],\n       [1.2969258],\n       [1.3038958],\n       [1.3090448],\n       [1.3072501],\n       [1.302353 ],\n       [1.2974993],\n       [1.2957741],\n       [1.2977432],\n       [1.3031002],\n       [1.3152363],\n       [1.3337872],\n       [1.3578091],\n       [1.381233 ],\n       [1.3951398],\n       [1.3970376],\n       [1.3981167],\n       [1.4070565],\n       [1.422769 ],\n       [1.4378189],\n       [1.4469541],\n       [1.4488254],\n       [1.4487772],\n       [1.45581  ],\n       [1.4715914],\n       [1.4841839],\n       [1.4846932],\n       [1.4716831],\n       [1.4478382],\n       [1.4194895],\n       [1.3951744],\n       [1.3852489],\n       [1.3917974],\n       [1.4109403],\n       [1.4374448],\n       [1.462009 ],\n       [1.4781259],\n       [1.4826844],\n       [1.4791774],\n       [1.4725028],\n       [1.4694548],\n       [1.4721051],\n       [1.4801134],\n       [1.4927548],\n       [1.5064483],\n       [1.5209733],\n       [1.5382634],\n       [1.5531487],\n       [1.564124 ],\n       [1.5726216],\n       [1.5827038],\n       [1.5653747],\n       [1.5157863],\n       [1.4492701],\n       [1.3920872],\n       [1.358626 ],\n       [1.3464227],\n       [1.3475903],\n       [1.3549021],\n       [1.3647363],\n       [1.3666992],\n       [1.3570629],\n       [1.3514934],\n       [1.3597825],\n       [1.3757716],\n       [1.3862578],\n       [1.3895898],\n       [1.3880991],\n       [1.3817259],\n       [1.3706473],\n       [1.3577653],\n       [1.3417326],\n       [1.3251716],\n       [1.3077759],\n       [1.2751501],\n       [1.2347025],\n       [1.1947821],\n       [1.1636564],\n       [1.1504995],\n       [1.1587523],\n       [1.1825958],\n       [1.2123848],\n       [1.2424816],\n       [1.2671803],\n       [1.2850567],\n       [1.2983792],\n       [1.3074226],\n       [1.3141667],\n       [1.3213359],\n       [1.3269322],\n       [1.3222071],\n       [1.3054329],\n       [1.2807895],\n       [1.2562765],\n       [1.2416092],\n       [1.2422298],\n       [1.2578803],\n       [1.2845198],\n       [1.3106343],\n       [1.3310113],\n       [1.347407 ],\n       [1.360954 ],\n       [1.3711913],\n       [1.3786291],\n       [1.3838412],\n       [1.3848276],\n       [1.3815664],\n       [1.371389 ],\n       [1.3584462],\n       [1.3487872],\n       [1.3425384],\n       [1.3377296],\n       [1.3636056],\n       [1.4168121],\n       [1.4757963],\n       [1.5201439],\n       [1.5395963],\n       [1.5323044],\n       [1.4957579],\n       [1.4475344],\n       [1.4044205],\n       [1.3834554],\n       [1.3814644],\n       [1.3875505]], dtype=float32)"
     },
     "execution_count": 19,
     "metadata": {},
     "output_type": "execute_result"
    }
   ],
   "source": [
    "y_pred = model.predict(X_test)\n",
    "y_pred"
   ]
  },
  {
   "cell_type": "code",
   "execution_count": 20,
   "metadata": {},
   "outputs": [],
   "source": [
    "predicted_price = sc.inverse_transform(y_pred)"
   ]
  },
  {
   "cell_type": "code",
   "execution_count": 21,
   "metadata": {},
   "outputs": [
    {
     "data": {
      "text/plain": "<Figure size 432x288 with 1 Axes>",
      "image/png": "[encoded data removed]"
     },
     "metadata": {
      "needs_background": "light"
     },
     "output_type": "display_data"
    }
   ],
   "source": [
    "plt.plot(y_test, color = 'red', label = 'Actual Stock Price')\n",
    "plt.plot(predicted_price, color = 'green', label = 'Predicted Stock Price')\n",
    "plt.title('Google stock price prediction')\n",
    "plt.xlabel('Time')\n",
    "plt.ylabel('Stock Price')\n",
    "plt.legend()\n",
    "plt.show()"
   ]
  }
 ],
 "metadata": {
  "kernelspec": {
   "display_name": "Python 3",
   "language": "python",
   "name": "python3"
  },
  "language_info": {
   "codemirror_mode": {
    "name": "ipython",
    "version": 3
   },
   "file_extension": ".py",
   "mimetype": "text/x-python",
   "name": "python",
   "nbconvert_exporter": "python",
   "pygments_lexer": "ipython3",
   "version": "3.7.6"
  }
 },
 "nbformat": 4,
 "nbformat_minor": 4
}
